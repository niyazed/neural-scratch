{
 "cells": [
  {
   "cell_type": "code",
   "execution_count": 89,
   "metadata": {},
   "outputs": [],
   "source": [
    "import numpy as np\n",
    "from tqdm import tqdm\n",
    "\n",
    "np.random.seed(1)"
   ]
  },
  {
   "cell_type": "code",
   "execution_count": 79,
   "metadata": {},
   "outputs": [],
   "source": [
    "def sigmoid(x):\n",
    "    return 1 / (1 + np.exp(-x))\n",
    "\n",
    "def sigmoid_derivative(x):\n",
    "    return x * (1 - x)"
   ]
  },
  {
   "cell_type": "code",
   "execution_count": 95,
   "metadata": {},
   "outputs": [
    {
     "name": "stdout",
     "output_type": "stream",
     "text": [
      "[[0.30024165]\n",
      " [0.40666884]\n",
      " [0.23693646]\n",
      " [0.48641544]]\n"
     ]
    }
   ],
   "source": [
    "# Training Samples\n",
    "X = np.array([[0,0,1],\n",
    "            [1,1,1],\n",
    "            [1,0,1],\n",
    "            [0,1,1]])\n",
    "\n",
    "# Traininng labels\n",
    "y = np.array([[0,1,1,0]]).T\n",
    "\n",
    "weights = 2 * np.random.random((3,1)) - 1\n",
    "# print(\"Before Weights: \",synaptic_weights)\n",
    "\n",
    "for iteration in range(2):\n",
    "    input_layer = X\n",
    "    \n",
    "    yhat = sigmoid(np.dot(input_layer, weights))\n",
    "    \n",
    "    error = y - yhat\n",
    "    \n",
    "    adjustments = error * sigmoid_derivative(yhat)\n",
    "    \n",
    "    weights += np.dot(input_layer.T, adjustments)\n",
    "    \n",
    "# print(\"After Weights: \",synaptic_weights)\n",
    "print(yhat)"
   ]
  },
  {
   "cell_type": "code",
   "execution_count": null,
   "metadata": {},
   "outputs": [],
   "source": []
  }
 ],
 "metadata": {
  "kernelspec": {
   "display_name": "Python 3",
   "language": "python",
   "name": "python3"
  },
  "language_info": {
   "codemirror_mode": {
    "name": "ipython",
    "version": 3
   },
   "file_extension": ".py",
   "mimetype": "text/x-python",
   "name": "python",
   "nbconvert_exporter": "python",
   "pygments_lexer": "ipython3",
   "version": "3.7.4"
  }
 },
 "nbformat": 4,
 "nbformat_minor": 2
}
