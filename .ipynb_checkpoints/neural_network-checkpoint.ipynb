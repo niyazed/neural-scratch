{
 "cells": [
  {
   "cell_type": "code",
   "execution_count": 1,
   "metadata": {},
   "outputs": [],
   "source": [
    "import numpy as np\n"
   ]
  },
  {
   "cell_type": "code",
   "execution_count": null,
   "metadata": {},
   "outputs": [
    {
     "name": "stdout",
     "output_type": "stream",
     "text": [
      "Random Weights\n",
      "[[-0.16595599]\n",
      " [ 0.44064899]\n",
      " [-0.99977125]]\n",
      "[[-0.16595599]\n",
      " [ 0.44064899]\n",
      " [-0.99977125]]\n"
     ]
    }
   ],
   "source": [
    "class Neural_Network():\n",
    "    \n",
    "    def __init__(self):\n",
    "        np.random.seed(1)\n",
    "        self.weights = 2 * np.random.random((3, 1)) - 1\n",
    "    \n",
    "    \n",
    "    def sigmoid(self, x):\n",
    "        return 1 / (1 + np.exp(-x)) \n",
    "    \n",
    "    \n",
    "    def sigmoid_derivative(self, x):\n",
    "        return x * (1 - x)\n",
    "    \n",
    "    def train(self, X, y, iterations):\n",
    "        \n",
    "        for step in range(iterations):\n",
    "            yhat = self.predict(X)\n",
    "            error = y - yhat\n",
    "            adjustments = error * self.sigmoid_derivative(yhat)\n",
    "            self.weights += np.dot(X.T, adjustments)\n",
    "            \n",
    "    def predict(self, inputs):\n",
    "        inputs = inputs.astype(float)\n",
    "        outputs = self.sigmoid(np.dot(inputs, self.weights))\n",
    "        \n",
    "        return outputs\n",
    "    \n",
    "    \n",
    "        \n",
    "if __name__ == \"__main__\":\n",
    "\n",
    "    nnet = Neural_Network()\n",
    "\n",
    "    print(\"Random Weights\")\n",
    "    print(nnet.weights)\n",
    "    print(nnet.weights)\n",
    "\n",
    "\n",
    "    # Training Samples\n",
    "    X = np.array([[0,0,1],\n",
    "                [1,1,1],\n",
    "                [1,0,1],\n",
    "                [0,1,1]])\n",
    "\n",
    "    # Traininng labels\n",
    "    y = np.array([[0,1,1,0]]).T\n",
    "\n",
    "\n",
    "    nnet.train(X, y, 10000) \n",
    "\n",
    "    A = str(input(\"Input 1: \"))\n",
    "    B = str(input(\"Input 2: \"))\n",
    "    C = str(input(\"Input 3: \"))\n",
    "\n",
    "    print(\"New Situation: \", A, B, C)\n",
    "    print(\"Predicted: \", nnet.predict(np.array([A, B, C])))\n"
   ]
  },
  {
   "cell_type": "code",
   "execution_count": 6,
   "metadata": {},
   "outputs": [
    {
     "data": {
      "text/plain": [
       "<__main__.Neural_Network at 0x7f9cff41f6a0>"
      ]
     },
     "execution_count": 6,
     "metadata": {},
     "output_type": "execute_result"
    }
   ],
   "source": [
    "nnet = Neural_Network()\n"
   ]
  },
  {
   "cell_type": "code",
   "execution_count": null,
   "metadata": {},
   "outputs": [],
   "source": []
  }
 ],
 "metadata": {
  "kernelspec": {
   "display_name": "Python 3",
   "language": "python",
   "name": "python3"
  },
  "language_info": {
   "codemirror_mode": {
    "name": "ipython",
    "version": 3
   },
   "file_extension": ".py",
   "mimetype": "text/x-python",
   "name": "python",
   "nbconvert_exporter": "python",
   "pygments_lexer": "ipython3",
   "version": "3.6.8"
  }
 },
 "nbformat": 4,
 "nbformat_minor": 2
}
