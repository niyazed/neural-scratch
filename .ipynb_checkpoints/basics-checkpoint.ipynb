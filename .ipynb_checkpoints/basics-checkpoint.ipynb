{
 "cells": [
  {
   "cell_type": "markdown",
   "metadata": {},
   "source": [
    "## Multiple inputs:\n",
    "### Python Implemenation"
   ]
  },
  {
   "cell_type": "code",
   "execution_count": 53,
   "metadata": {},
   "outputs": [
    {
     "name": "stdout",
     "output_type": "stream",
     "text": [
      "[INFO] [TOES, WIN %, FANS]:  [8.5, 0.65, 1.2]\n",
      "[INFO] Prediction:  0.9800000000000001\n",
      "\n",
      "[INFO] [TOES, WIN %, FANS]:  [9.5, 0.8, 1.3]\n",
      "[INFO] Prediction:  1.11\n",
      "\n",
      "[INFO] [TOES, WIN %, FANS]:  [9.9, 0.8, 0.5]\n",
      "[INFO] Prediction:  1.1500000000000001\n",
      "\n",
      "[INFO] [TOES, WIN %, FANS]:  [9.0, 0.9, 1.0]\n",
      "[INFO] Prediction:  1.08\n",
      "\n",
      "[INFO] [TOES, WIN %, FANS]:  [1.0, 0.1, 0.5]\n",
      "[INFO] Prediction:  0.12000000000000001\n",
      "\n"
     ]
    }
   ],
   "source": [
    "weights = [0.1, 0.2, 0]\n",
    "\n",
    "# inputs\n",
    "toes = [8.5, 9.5, 9.9, 9.0, 1.0]\n",
    "wlrec = [0.65, 0.8, 0.8, 0.9, 0.1]\n",
    "nfans = [1.2, 1.3, 0.5, 1.0, 0.5]\n",
    "\n",
    "def weighted_sum(a, b):\n",
    "    assert(len(a) == len(b))\n",
    "    \n",
    "    output = 0\n",
    "    for i in range(len(a)):\n",
    "        output += a[i] * b[i]\n",
    "    \n",
    "    return output\n",
    "\n",
    "def neural_network(input, weights):\n",
    "    pred = weighted_sum(input, weights)\n",
    "    \n",
    "    return pred\n",
    "\n",
    "\n",
    "# input = [toes[0], wlrec[0], nfans[0]]\n",
    "# pred = neural_network(input, weights)\n",
    "# print(\"[INFO] Prediction: \",pred)\n",
    "\n",
    "\n",
    "\n",
    "for i in range(len(toes)):\n",
    "    input = [toes[i], wlrec[i], nfans[i]]\n",
    "    print(\"[INFO] [TOES, WIN %, FANS]: \",input)\n",
    "    pred = neural_network(input, weights)\n",
    "    print(\"[INFO] Prediction: \", pred, end='\\n\\n')\n",
    "    \n"
   ]
  },
  {
   "cell_type": "markdown",
   "metadata": {},
   "source": [
    "### NumPy Implementaion "
   ]
  },
  {
   "cell_type": "code",
   "execution_count": 54,
   "metadata": {},
   "outputs": [
    {
     "name": "stdout",
     "output_type": "stream",
     "text": [
      "[INFO] [TOES, WIN %, FANS]:  [8.5  0.65 1.2 ]\n",
      "[INFO] Prediction:  0.9800000000000001\n",
      "\n",
      "[INFO] [TOES, WIN %, FANS]:  [9.5 0.8 1.3]\n",
      "[INFO] Prediction:  1.11\n",
      "\n",
      "[INFO] [TOES, WIN %, FANS]:  [9.9 0.8 0.5]\n",
      "[INFO] Prediction:  1.1500000000000001\n",
      "\n",
      "[INFO] [TOES, WIN %, FANS]:  [9.  0.9 1. ]\n",
      "[INFO] Prediction:  1.08\n",
      "\n",
      "[INFO] [TOES, WIN %, FANS]:  [1.  0.1 0.5]\n",
      "[INFO] Prediction:  0.12000000000000001\n",
      "\n"
     ]
    }
   ],
   "source": [
    "import numpy as np\n",
    "\n",
    "weights = np.array([0.1, 0.2, 0])\n",
    "\n",
    "# inputs\n",
    "toes = np.array([8.5, 9.5, 9.9, 9.0, 1.0])\n",
    "wlrec = np.array([0.65, 0.8, 0.8, 0.9, 0.1])\n",
    "nfans = np.array([1.2, 1.3, 0.5, 1.0, 0.5])\n",
    "\n",
    "def neural_network(input, weights):\n",
    "    pred = np.dot(input, weights)\n",
    "    \n",
    "    return pred\n",
    "\n",
    "\n",
    "for i in range(len(toes)):\n",
    "    input = np.array([toes[i], wlrec[i], nfans[i]])\n",
    "    print(\"[INFO] [TOES, WIN %, FANS]: \",input)\n",
    "    pred = neural_network(input, weights)\n",
    "    print(\"[INFO] Prediction: \", pred, end='\\n\\n')"
   ]
  },
  {
   "cell_type": "markdown",
   "metadata": {},
   "source": [
    "## Making a prediction with multiple outputs"
   ]
  },
  {
   "cell_type": "code",
   "execution_count": 55,
   "metadata": {},
   "outputs": [
    {
     "name": "stdout",
     "output_type": "stream",
     "text": [
      "[INFO] Win Percentage:  0.65\n",
      "[INFO] [Hurt, Win, Sad]:  [0.195, 0.13, 0.5850000000000001]\n",
      "\n",
      "[INFO] Win Percentage:  0.8\n",
      "[INFO] [Hurt, Win, Sad]:  [0.24, 0.16000000000000003, 0.7200000000000001]\n",
      "\n",
      "[INFO] Win Percentage:  0.8\n",
      "[INFO] [Hurt, Win, Sad]:  [0.24, 0.16000000000000003, 0.7200000000000001]\n",
      "\n",
      "[INFO] Win Percentage:  0.9\n",
      "[INFO] [Hurt, Win, Sad]:  [0.27, 0.18000000000000002, 0.81]\n",
      "\n"
     ]
    }
   ],
   "source": [
    "weights = [0.3, 0.2, 0.9] \n",
    "wlrec = [0.65, 0.8, 0.8, 0.9] #inputs\n",
    "\n",
    "def ele_mul(num, vector):\n",
    "    output = [0, 0, 0]\n",
    "    \n",
    "    for i in range(len(vector)):\n",
    "        output[i] = num * vector[i]\n",
    "        \n",
    "    return output\n",
    "\n",
    "def neural_network(input, weights):\n",
    "    pred = ele_mul(input, weights)\n",
    "    \n",
    "    return pred\n",
    "\n",
    "for i in range(len(wlrec)):\n",
    "    input =  wlrec[i]\n",
    "    print(\"[INFO] Win Percentage: \",input)\n",
    "    pred = neural_network(input, weights)\n",
    "    print(\"[INFO] [Hurt, Win, Sad]: \",pred, end='\\n\\n')"
   ]
  },
  {
   "cell_type": "markdown",
   "metadata": {},
   "source": [
    "## Predicting with multiple inputs and outputs  "
   ]
  },
  {
   "cell_type": "code",
   "execution_count": 64,
   "metadata": {},
   "outputs": [
    {
     "name": "stdout",
     "output_type": "stream",
     "text": [
      "[INFO] [TOES, WIN %, FANS]:  [8.5, 0.65, 1.2]\n",
      "[INFO] [Hurt, Win, Sad]:  [0.555, 0.9800000000000001, 0.9650000000000001]\n",
      "\n",
      "[INFO] [TOES, WIN %, FANS]:  [9.5, 0.8, 1.3]\n",
      "[INFO] [Hurt, Win, Sad]:  [0.64, 1.11, 1.17]\n",
      "\n",
      "[INFO] [TOES, WIN %, FANS]:  [9.9, 0.8, 0.5]\n",
      "[INFO] [Hurt, Win, Sad]:  [0.92, 1.1500000000000001, 1.09]\n",
      "\n",
      "[INFO] [TOES, WIN %, FANS]:  [9.0, 0.9, 1.0]\n",
      "[INFO] [Hurt, Win, Sad]:  [0.69, 1.08, 1.2700000000000002]\n",
      "\n"
     ]
    }
   ],
   "source": [
    "          # toes % win # fans\n",
    "weights = [[0.1, 0.1, -0.3], # hurt?\n",
    "            [0.1, 0.2, 0.0], # win?\n",
    "            [0.0, 1.3, 0.1]] # sad?\n",
    "\n",
    "toes = [8.5, 9.5, 9.9, 9.0]\n",
    "wlrec = [0.65,0.8, 0.8, 0.9]\n",
    "nfans = [1.2, 1.3, 0.5, 1.0]\n",
    "\n",
    "\n",
    "def w_sum(a,b):\n",
    "    output = 0\n",
    "    \n",
    "    for i in range(len(a)):\n",
    "        output += a[i] * b[i]\n",
    "        \n",
    "    \n",
    "    return output\n",
    "\n",
    "def vect_mat_mul(vect, matrix):\n",
    "    output = [0, 0, 0]\n",
    "    \n",
    "    for i in range(len(matrix)):\n",
    "        output[i] = w_sum(vect, matrix[i])\n",
    "        \n",
    "    return output\n",
    "\n",
    "def neural_network(input, weights):\n",
    "    pred = vect_mat_mul(input, weights)\n",
    "    \n",
    "    return pred\n",
    "\n",
    "for i in range(len(toes)):\n",
    "    input = [toes[i], wlrec[i], nfans[i]]\n",
    "    print(\"[INFO] [TOES, WIN %, FANS]: \",input)\n",
    "    pred = neural_network(input, weights)\n",
    "    print(\"[INFO] [Hurt, Win, Sad]: \", pred, end='\\n\\n')"
   ]
  },
  {
   "cell_type": "markdown",
   "metadata": {},
   "source": [
    "## Predicting on predictions "
   ]
  },
  {
   "cell_type": "code",
   "execution_count": 65,
   "metadata": {},
   "outputs": [
    {
     "name": "stdout",
     "output_type": "stream",
     "text": [
      "[INFO] [TOES, WIN %, FANS]:  [8.5, 0.65, 1.2]\n",
      "[INFO] [Hurt, Win, Sad]:  [0.21350000000000002, 0.14500000000000002, 0.5065]\n",
      "\n",
      "[INFO] [TOES, WIN %, FANS]:  [9.5, 0.8, 1.3]\n",
      "[INFO] [Hurt, Win, Sad]:  [0.20400000000000013, 0.15800000000000003, 0.53]\n",
      "\n",
      "[INFO] [TOES, WIN %, FANS]:  [9.9, 0.8, 0.5]\n",
      "[INFO] [Hurt, Win, Sad]:  [-0.5840000000000003, 0.017999999999999988, -0.4620000000000002]\n",
      "\n",
      "[INFO] [TOES, WIN %, FANS]:  [9.0, 0.9, 1.0]\n",
      "[INFO] [Hurt, Win, Sad]:  [-0.015000000000000013, 0.11600000000000002, 0.253]\n",
      "\n"
     ]
    }
   ],
   "source": [
    "                         # toes % win # fans\n",
    "input_hidden_weights = [[0.1, 0.2, -0.1], # hid[0]\n",
    "                       [-0.1,0.1, 0.9], # hid[1]\n",
    "                       [0.1, 0.4, 0.1]] # hid[2]\n",
    "\n",
    "\n",
    "                             #hid[0] hid[1] hid[2]\n",
    "hidden_prediction_weights = [[0.3, 1.1, -0.3], # hurt?\n",
    "                             [0.1, 0.2, 0.0], # win?\n",
    "                             [0.0, 1.3, 0.1]] # sad?\n",
    "\n",
    "weights = [input_hidden_weights, hidden_prediction_weights]\n",
    "\n",
    "def neural_network(input, weights):\n",
    "    hid = vect_mat_mul(input,weights[0])\n",
    "    pred = vect_mat_mul(hid,weights[1]) \n",
    "    \n",
    "    return pred\n",
    "\n",
    "# input = [toes[0],wlrec[0],nfans[0]]\n",
    "# pred = neural_network(input,weights)\n",
    "# print(pred)\n",
    "\n",
    "for i in range(len(toes)):\n",
    "    input = [toes[i], wlrec[i], nfans[i]]\n",
    "    print(\"[INFO] [TOES, WIN %, FANS]: \",input)\n",
    "    pred = neural_network(input, weights)\n",
    "    print(\"[INFO] [Hurt, Win, Sad]: \", pred, end='\\n\\n')"
   ]
  },
  {
   "cell_type": "markdown",
   "metadata": {},
   "source": [
    "### NumPy Implementation "
   ]
  },
  {
   "cell_type": "code",
   "execution_count": 70,
   "metadata": {},
   "outputs": [
    {
     "name": "stdout",
     "output_type": "stream",
     "text": [
      "[INFO] [TOES, WIN %, FANS]:  [8.5  0.65 1.2 ]\n",
      "[0.86  0.295 1.23 ]\n",
      "[INFO] [Hurt, Win, Sad]:  [0.2135 0.145  0.5065]\n",
      "\n",
      "[INFO] [TOES, WIN %, FANS]:  [9.5 0.8 1.3]\n",
      "[0.98 0.3  1.4 ]\n",
      "[INFO] [Hurt, Win, Sad]:  [0.204 0.158 0.53 ]\n",
      "\n",
      "[INFO] [TOES, WIN %, FANS]:  [9.9 0.8 0.5]\n",
      "[ 1.1  -0.46  1.36]\n",
      "[INFO] [Hurt, Win, Sad]:  [-0.584  0.018 -0.462]\n",
      "\n",
      "[INFO] [TOES, WIN %, FANS]:  [9.  0.9 1. ]\n",
      "[0.98 0.09 1.36]\n",
      "[INFO] [Hurt, Win, Sad]:  [-0.015  0.116  0.253]\n",
      "\n"
     ]
    }
   ],
   "source": [
    "import numpy as np\n",
    "\n",
    "\n",
    "                                # toes % win # fans\n",
    "input_hidden_weights = np.array([[0.1, 0.2, -0.1], # hid[0]\n",
    "                                   [-0.1,0.1, 0.9], # hid[1]\n",
    "                                   [0.1, 0.4, 0.1]]).T # hid[2]\n",
    "\n",
    "\n",
    "                                     #hid[0] hid[1] hid[2]\n",
    "hidden_prediction_weights = np.array([[0.3, 1.1, -0.3], # hurt?\n",
    "                                     [0.1, 0.2, 0.0], # win?\n",
    "                                    [0.0, 1.3, 0.1]]).T # sad?\n",
    "\n",
    "\n",
    "weights = [input_hidden_weights, hidden_prediction_weights]\n",
    "\n",
    "\n",
    "def neural_network(input, weights):\n",
    "    hid = np.dot(input,weights[0])\n",
    "    print(hid)\n",
    "    pred = np.dot(hid,weights[1]) \n",
    "    \n",
    "    return pred\n",
    "\n",
    "# INPUTS\n",
    "toes = np.array([8.5, 9.5, 9.9, 9.0])\n",
    "wlrec = np.array([0.65,0.8, 0.8, 0.9])\n",
    "nfans = np.array([1.2, 1.3, 0.5, 1.0])\n",
    "\n",
    "# input = np.array([toes[0],wlrec[0],nfans[0]])\n",
    "# pred = neural_network(input,weights)\n",
    "# print(pred)\n",
    "\n",
    "for i in range(len(toes)):\n",
    "    input = np.array([toes[i], wlrec[i], nfans[i]])\n",
    "    print(\"[INFO] [TOES, WIN %, FANS]: \",input)\n",
    "    pred = neural_network(input, weights)\n",
    "    print(\"[INFO] [Hurt, Win, Sad]: \", pred, end='\\n\\n')"
   ]
  },
  {
   "cell_type": "code",
   "execution_count": null,
   "metadata": {},
   "outputs": [],
   "source": []
  }
 ],
 "metadata": {
  "kernelspec": {
   "display_name": "Python 3",
   "language": "python",
   "name": "python3"
  },
  "language_info": {
   "codemirror_mode": {
    "name": "ipython",
    "version": 3
   },
   "file_extension": ".py",
   "mimetype": "text/x-python",
   "name": "python",
   "nbconvert_exporter": "python",
   "pygments_lexer": "ipython3",
   "version": "3.7.5"
  }
 },
 "nbformat": 4,
 "nbformat_minor": 2
}
